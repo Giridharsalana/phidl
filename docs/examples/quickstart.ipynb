{
 "cells": [
  {
   "cell_type": "markdown",
   "metadata": {},
   "source": [
    "# Quick start"
   ]
  },
  {
   "cell_type": "markdown",
   "metadata": {},
   "source": [
    "PHIDL allows you to create complex designs from simple shapes, and can output the result as GDSII files. The basic element of PHIDL is the `Device`, which can be thought of as a blank area to which you can add polygon shapes. The polygon shapes can also have `Port`s on them--these allow you to snap shapes together like Lego blocks. You can either hand-design your own polygon shapes, or there is a large library of pre-existing shapes you can use as well.\n",
    "\n",
    "Let's start by trying to make a rectangle shape with ports on either end."
   ]
  },
  {
   "cell_type": "code",
   "execution_count": 5,
   "metadata": {
    "scrolled": true
   },
   "outputs": [
    {
     "data": {
      "image/png": "[encoded data removed]",
      "text/plain": [
       "<Figure size 432x288 with 1 Axes>"
      ]
     },
     "metadata": {
      "needs_background": "light"
     },
     "output_type": "display_data"
    }
   ],
   "source": [
    "import numpy as np\n",
    "from phidl import quickplot as qp\n",
    "from phidl import Device\n",
    "import phidl.geometry as pg\n",
    "\n",
    "\n",
    "# First we create a blank device `R` (R can be thought of as a blank \n",
    "# GDS cell with some special features). Note that when we\n",
    "# make a Device, we usually assign it a variable name with a capital letter\n",
    "R = Device('myrectangle')\n",
    "\n",
    "# Next, let's make a list of points representing the points of the rectangle\n",
    "# for a given width and height\n",
    "width = 10\n",
    "height = 3\n",
    "points =  [(0, 0), (width, 0), (width, height), (0, height)]\n",
    "\n",
    "# Now we turn these points into a polygon shape using add_polygon()\n",
    "R.add_polygon(points)\n",
    "\n",
    "# Let's use the built-in \"quickplot\" function to display the polygon we put in D\n",
    "qp(R)"
   ]
  },
  {
   "cell_type": "markdown",
   "metadata": {},
   "source": [
    "Next, let's add `Port`s to the rectangle which will allow us to connect it to other shapes easily"
   ]
  },
  {
   "cell_type": "code",
   "execution_count": 6,
   "metadata": {},
   "outputs": [
    {
     "data": {
      "image/png": "[encoded data removed]",
      "text/plain": [
       "<Figure size 432x288 with 1 Axes>"
      ]
     },
     "metadata": {
      "needs_background": "light"
     },
     "output_type": "display_data"
    }
   ],
   "source": [
    "# Ports are defined by their width, midpoint, and the direction (orientation) they're facing\n",
    "# They also must have a name -- this is usually a string or an integer\n",
    "R.add_port(name = 'myport1', midpoint = [0,height/2], width = height, orientation = 180)\n",
    "R.add_port(name = 'myport2', midpoint = [width,height/2], width = height, orientation = 0)\n",
    "\n",
    "# The ports will show up when we quickplot() our shape\n",
    "qp(R) # quickplot it!"
   ]
  },
  {
   "cell_type": "markdown",
   "metadata": {},
   "source": [
    "Our Device looks good! Since this Device is finished, let's create a new (blank) Device and add several shapes to it. Specifically, we will add an arc from the built-in geometry library and two copies of our rectangle Device.  We'll then then connect one rectangle to either end of the arc.\n",
    "\n",
    "This process involves adding \"references\".  These references allow you to create a Device shape once, then reuse it many times in other Devices. "
   ]
  },
  {
   "cell_type": "code",
   "execution_count": 11,
   "metadata": {},
   "outputs": [
    {
     "data": {
      "image/png": "[encoded data removed]",
      "text/plain": [
       "<Figure size 432x288 with 1 Axes>"
      ]
     },
     "metadata": {
      "needs_background": "light"
     },
     "output_type": "display_data"
    }
   ],
   "source": [
    "# Create a blank Device\n",
    "E = Device('arc_with_rectangles')\n",
    "\n",
    "# Also create an arc from the built-in library\n",
    "A = pg.arc(width = 3)\n",
    "\n",
    "# Add a \"reference\" of the arc to our blank Device\n",
    "arc_ref = E.add_ref(A)\n",
    "\n",
    "# Also add two references to our rectangle Device\n",
    "rect_ref1 = E.add_ref(R)\n",
    "rect_ref2 = E.add_ref(R)\n",
    "\n",
    "# Move the shapes around a little\n",
    "rect_ref1.move([10,10])\n",
    "rect_ref2.move([-10,10])\n",
    "\n",
    "qp(E)"
   ]
  },
  {
   "cell_type": "markdown",
   "metadata": {},
   "source": [
    "Now we can see we have added 3 shapes to our Device \"E\". We see that our rectangle Device has been referenced twice, and each of the references has `Port`s on it. We can also see that the arc has `Port`s on it as well with the names 1 and 2.\n",
    "\n",
    "Next, let's snap everything together like Lego blocks using the `connect()` command."
   ]
  },
  {
   "cell_type": "code",
   "execution_count": null,
   "metadata": {},
   "outputs": [],
   "source": []
  },
  {
   "cell_type": "code",
   "execution_count": null,
   "metadata": {},
   "outputs": [],
   "source": []
  }
 ],
 "metadata": {
  "kernelspec": {
   "display_name": "Python 3",
   "language": "python",
   "name": "python3"
  },
  "language_info": {
   "codemirror_mode": {
    "name": "ipython",
    "version": 3
   },
   "file_extension": ".py",
   "mimetype": "text/x-python",
   "name": "python",
   "nbconvert_exporter": "python",
   "pygments_lexer": "ipython3",
   "version": "3.7.6"
  }
 },
 "nbformat": 4,
 "nbformat_minor": 4
}
